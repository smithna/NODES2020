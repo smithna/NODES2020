{
 "cells": [
  {
   "cell_type": "code",
   "execution_count": null,
   "metadata": {},
   "outputs": [],
   "source": [
    "from neo4j import GraphDatabase\n",
    "from matplotlib import pyplot as plt\n",
    "import seaborn as sns\n",
    "import pandas as pd\n",
    "%matplotlib inline"
   ]
  },
  {
   "cell_type": "code",
   "execution_count": null,
   "metadata": {},
   "outputs": [],
   "source": [
    "driver = GraphDatabase.driver('bolt://localhost:7687', auth=('neo4j', 'demo'))"
   ]
  },
  {
   "cell_type": "code",
   "execution_count": null,
   "metadata": {},
   "outputs": [],
   "source": [
    "def query_to_pandas(driver, query):\n",
    "    with driver.session(database=\"smallworld\") as session:\n",
    "        result = session.run(query)\n",
    "        return pd.DataFrame(result.data())"
   ]
  },
  {
   "cell_type": "code",
   "execution_count": null,
   "metadata": {},
   "outputs": [],
   "source": [
    "path_lengths_query = \"\"\"\n",
    "CALL gds.alpha.allShortestPaths.stream('base-grid')\n",
    "YIELD sourceNodeId, targetNodeId, distance\n",
    "RETURN toInteger(distance) AS distance, count(*) AS pathCount\n",
    "ORDER BY toInteger(distance);\n",
    "\"\"\""
   ]
  },
  {
   "cell_type": "code",
   "execution_count": null,
   "metadata": {},
   "outputs": [],
   "source": [
    "path_lengths_df = query_to_pandas(driver, path_lengths_query)"
   ]
  },
  {
   "cell_type": "code",
   "execution_count": null,
   "metadata": {},
   "outputs": [],
   "source": [
    "f, ax = plt.subplots(figsize=(14,7))\n",
    "ax = sns.barplot(data=path_lengths_df, x=\"distance\", y=\"pathCount\", color=\"orange\")"
   ]
  },
  {
   "cell_type": "code",
   "execution_count": null,
   "metadata": {},
   "outputs": [],
   "source": [
    "new_path_lengths_query = \"\"\"\n",
    "CALL gds.alpha.allShortestPaths.stream('new-grid')\n",
    "YIELD sourceNodeId, targetNodeId, distance\n",
    "RETURN toInteger(distance) AS distance, count(*) AS pathCount\n",
    "ORDER BY toInteger(distance);\n",
    "\"\"\""
   ]
  },
  {
   "cell_type": "code",
   "execution_count": null,
   "metadata": {},
   "outputs": [],
   "source": [
    "new_path_lengths_df = query_to_pandas(driver, new_path_lengths_query)"
   ]
  },
  {
   "cell_type": "code",
   "execution_count": null,
   "metadata": {},
   "outputs": [],
   "source": [
    "f, ax = plt.subplots(figsize=(14,7))\n",
    "ax = sns.barplot(data=new_path_lengths_df, x=\"distance\", y=\"pathCount\", color=\"orange\")"
   ]
  }
 ],
 "metadata": {
  "kernelspec": {
   "display_name": "Python 3",
   "language": "python",
   "name": "python3"
  },
  "language_info": {
   "codemirror_mode": {
    "name": "ipython",
    "version": 3
   },
   "file_extension": ".py",
   "mimetype": "text/x-python",
   "name": "python",
   "nbconvert_exporter": "python",
   "pygments_lexer": "ipython3",
   "version": "3.8.3"
  }
 },
 "nbformat": 4,
 "nbformat_minor": 4
}
