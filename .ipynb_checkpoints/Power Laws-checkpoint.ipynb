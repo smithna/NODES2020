{
 "cells": [
  {
   "cell_type": "code",
   "execution_count": null,
   "metadata": {},
   "outputs": [],
   "source": [
    "from neo4j import GraphDatabase\n",
    "from matplotlib import pyplot as plt\n",
    "import seaborn as sns\n",
    "import pandas as pd\n",
    "%matplotlib inline"
   ]
  },
  {
   "cell_type": "code",
   "execution_count": null,
   "metadata": {},
   "outputs": [],
   "source": [
    "driver = GraphDatabase.driver('bolt://localhost:7687', auth=('neo4j', 'demo'))"
   ]
  },
  {
   "cell_type": "code",
   "execution_count": null,
   "metadata": {},
   "outputs": [],
   "source": [
    "def query_to_pandas(driver, query):\n",
    "    with driver.session(database=\"powerlaws\") as session:\n",
    "        result = session.run(query)\n",
    "        return pd.DataFrame(result.data())"
   ]
  },
  {
   "cell_type": "code",
   "execution_count": null,
   "metadata": {},
   "outputs": [],
   "source": [
    "link_count_query = \"\"\"MATCH (p:Page)\n",
    "OPTIONAL MATCH (p)<-[:LINKS_TO]-(s)\n",
    "WITH p, count(s) AS incomingLinks\n",
    "RETURN p.p AS probability, incomingLinks, count(p) AS nodeCount\n",
    "ORDER BY probability, incomingLinks\"\"\""
   ]
  },
  {
   "cell_type": "code",
   "execution_count": null,
   "metadata": {},
   "outputs": [],
   "source": [
    "link_count_df = query_to_pandas(driver, link_count_query)"
   ]
  },
  {
   "cell_type": "code",
   "execution_count": null,
   "metadata": {},
   "outputs": [],
   "source": [
    "link_count_df.head()"
   ]
  },
  {
   "cell_type": "code",
   "execution_count": null,
   "metadata": {},
   "outputs": [],
   "source": [
    "link_count_df['prob_str']=link_count_df['probability'].astype(str) + ' probability'"
   ]
  },
  {
   "cell_type": "code",
   "execution_count": null,
   "metadata": {},
   "outputs": [],
   "source": [
    "link_count_df['incomingLinksPlusOne'] = link_count_df['incomingLinks'] + 1"
   ]
  },
  {
   "cell_type": "code",
   "execution_count": null,
   "metadata": {},
   "outputs": [],
   "source": [
    "sns.scatterplot(data=link_count_df, y=\"nodeCount\", x=\"incomingLinks\", hue=\"prob_str\")"
   ]
  },
  {
   "cell_type": "code",
   "execution_count": null,
   "metadata": {},
   "outputs": [],
   "source": [
    "ax = sns.relplot(data=link_count_df, y=\"nodeCount\", x=\"incomingLinksPlusOne\", hue=\"prob_str\", col=\"prob_str\", kind=\"scatter\")\n",
    "ax.set(xscale=\"log\", yscale=\"log\")"
   ]
  },
  {
   "cell_type": "code",
   "execution_count": null,
   "metadata": {},
   "outputs": [],
   "source": [
    "f, ax = plt.subplots(figsize=(7,7))\n",
    "ax.set(xscale=\"log\", yscale=\"log\")\n",
    "sns.scatterplot(data=link_count_df, y=\"nodeCount\", x=\"incomingLinksPlusOne\", hue=\"prob_str\")"
   ]
  },
  {
   "cell_type": "code",
   "execution_count": null,
   "metadata": {},
   "outputs": [],
   "source": [
    "long_tail_query = \"\"\"MATCH (p:Page)\n",
    "OPTIONAL MATCH (p)<-[:LINKS_TO]-(s)\n",
    "WITH p, count(s) AS incomingLinks\n",
    "WITH p.p AS probability, incomingLinks, count(p) AS nodeCount\n",
    "ORDER BY probability, incomingLinks\n",
    "WITH probability, collect(incomingLinks) AS linkCounts, collect(nodeCount) as nodeCounts\n",
    "UNWIND RANGE(0, size(linkCounts)-1) as rowNumber\n",
    "RETURN probability, \n",
    "apoc.coll.sum(nodeCounts[rowNumber..]) as nodeCount, \n",
    "linkCounts[rowNumber] as linkCount\"\"\""
   ]
  },
  {
   "cell_type": "code",
   "execution_count": null,
   "metadata": {},
   "outputs": [],
   "source": [
    "long_tail_df = query_to_pandas(driver, long_tail_query)"
   ]
  },
  {
   "cell_type": "code",
   "execution_count": null,
   "metadata": {},
   "outputs": [],
   "source": [
    "f, ax = plt.subplots(figsize=(7,7))\n",
    "sns.lineplot(data=long_tail_df[(long_tail_df['probability']==0.5)\n",
    "                              & (long_tail_df['nodeCount']>10)\n",
    "                              & (long_tail_df['linkCount'])>0], y=\"linkCount\", x=\"nodeCount\")"
   ]
  }
 ],
 "metadata": {
  "kernelspec": {
   "display_name": "Python 3",
   "language": "python",
   "name": "python3"
  },
  "language_info": {
   "codemirror_mode": {
    "name": "ipython",
    "version": 3
   },
   "file_extension": ".py",
   "mimetype": "text/x-python",
   "name": "python",
   "nbconvert_exporter": "python",
   "pygments_lexer": "ipython3",
   "version": "3.8.3"
  }
 },
 "nbformat": 4,
 "nbformat_minor": 4
}
